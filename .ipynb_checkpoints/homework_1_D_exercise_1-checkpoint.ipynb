{
 "cells": [
  {
   "cell_type": "markdown",
   "metadata": {},
   "source": [
    "# Homework 1 : CUAHSI VU : Snow Hydrology"
   ]
  },
  {
   "cell_type": "markdown",
   "metadata": {},
   "source": [
    "This notebook will be relatively short because this where the real work starts and most of the notebook will be written by you (or at least that is the plan). We'll do three exercises in homework 1:\n",
    "\n",
    "* Homework 1 exercise 1: Change the snow layering scheme\n",
    "\n",
    "* Homework 1 exercise 2: Change the albedo formulation and albedo parameters\n",
    "\n",
    "* Homework 1 exercise 3: Change the parameters controlling drainage through the snow pack\n",
    "\n",
    "We'll use the setup from the `homework_1_C_setup.ipynb` notebook for all three exercises."
   ]
  },
  {
   "cell_type": "markdown",
   "metadata": {},
   "source": [
    "As before, remember that you want to save your notebooks in a place other than the `examples` directory tree, because files you save there may be deleted and overwritten the next time you start your virtual machine. Save your files somewhere in the `work` directory tree: `work/homework_1` would be a great place for them. So click on \"_File --> Save Notebook As..._\" and save this notebook as `work/homework_1/homework_1_D_exercise_1.ipynb` before you continue. If things go hopelessly wrong, you can always start over again with the original notebook in your `examples` directory tree."
   ]
  },
  {
   "cell_type": "markdown",
   "metadata": {},
   "source": [
    "## D. Homework 1 Exercise 1"
   ]
  },
  {
   "cell_type": "markdown",
   "metadata": {},
   "source": [
    "### Setup"
   ]
  },
  {
   "cell_type": "markdown",
   "metadata": {},
   "source": [
    "We'll import some of the python modules that you are likely to need right up front. Note that you only need to do this once in a notebook. As long as you are working in the same session, the modules will remain loaded for the duration of that session."
   ]
  },
  {
   "cell_type": "code",
   "execution_count": 1,
   "metadata": {},
   "outputs": [],
   "source": [
    "%matplotlib inline\n",
    "import matplotlib.pyplot as plt # if you want to do some plotting using matplotlib (optional)\n",
    "from pysumma.Simulation import Simulation # create Simulation objects\n",
    "from pysumma.hydroshare import hydroshare # create hydroshare objects to upload to HydroShare\n",
    "from pysumma.LocalParamInfo import LocalParamInfo # modify local parameters. Explained below"
   ]
  },
  {
   "cell_type": "markdown",
   "metadata": {},
   "source": [
    "We'll also set some variables to make sure that everyone is using the same setup. This uses the setup that you installed in the `homework_1_C_setup.ipynb` notebook."
   ]
  },
  {
   "cell_type": "code",
   "execution_count": 2,
   "metadata": {},
   "outputs": [],
   "source": [
    "resource_id = '363296896e9d48d9b464d766fcd3073a'\n",
    "case_path = '/home/jovyan/work/{}/{}/data/contents/reynolds'.format(resource_id, resource_id)\n",
    "filemanager_path = case_path+'/settings/snow_fileManager_template.txt'\n",
    "summa_code_path = '/opt/summa'"
   ]
  },
  {
   "cell_type": "markdown",
   "metadata": {},
   "source": [
    "### Change the snow layering scheme"
   ]
  },
  {
   "cell_type": "markdown",
   "metadata": {},
   "source": [
    "Snow models represent a snow pack as one or more layers of snow and keep track of how much water is stored in each layer (snow water equivalent or SWE) as well as other state variables such as temperature. The model then tracks the time evolution of these state variables in each layer as well as the fluxes of water and energy between the layers."
   ]
  },
  {
   "cell_type": "markdown",
   "metadata": {},
   "source": [
    "In SUMMA you can choose between two different methods to combine and sub-divide snow layers. This behavior is controlled by the `snowLayers` variable in the [SUMMA decisions file](https://summa.readthedocs.io/en/latest/input_output/SUMMA_input/#infile_model_decisions) and can take one of two values, either `CLM_2010` or `jrdn1991`. The first refers to how snow layers were handled in the Community Land Model (CLM), while the second refers the snow layering scheme in SNTHERM as describe in  Jordan (1991).\n",
    "\n",
    "Among others things, the `CLM_2010` only has a limited number of snow layers. The layers store a maximum amount of SWE and when SWE in a layer exceeds that value, a new layer is created. Similarly, when SWE in a layer falls below a minimum SWE, the layer is merged with a neighboring layer. Once the maximum number of layers has been created, the deepest layer can grow as deep as it needs to be and acts as snow reservoir with unlimited capacity. The `jrdn1991` scheme on the other hand keeps creating additional layers as the snow pack grows in depth.\n",
    "\n",
    "Here we will do four different simulations:\n",
    "\n",
    "* SUMMA with `CLM_2010`\n",
    "* SUMMA with `jrdn1991`\n",
    "* SUMMA with `CLM_2010`, but we will configure it to act as a two layer model (the default version uses five snow layers)\n",
    "* SUMMA with `CLM_2010`, a two layer model and a thick top layer."
   ]
  },
  {
   "cell_type": "markdown",
   "metadata": {},
   "source": [
    "So now it is up to you. Just to refresh your memory we'll show you how to get started and then will provide some hints along the way."
   ]
  },
  {
   "cell_type": "markdown",
   "metadata": {},
   "source": [
    "#### SUMMA with CLM_2010\n",
    "\n",
    "Create a simulation object. The path for the SUMMA code and the file manager (the SUMMA input file with information about all the other input files) are already defined above. We can use the same file manager file (and thus the same simulation object) for all the runs, just keep track of what you did. We also already imported the `Simulation()` method."
   ]
  },
  {
   "cell_type": "code",
   "execution_count": 7,
   "metadata": {},
   "outputs": [
    {
     "name": "stdout",
     "output_type": "stream",
     "text": [
      "ModelOuput master file filepath: /opt/summa/build/source/dshare/var_lookup.f90\n"
     ]
    }
   ],
   "source": [
    "S = Simulation(case_data=filemanager_path, summa_code=summa_code_path)"
   ]
  },
  {
   "cell_type": "markdown",
   "metadata": {},
   "source": [
    "\n",
    "Set the decision for `snowLayers` to `CLM_2010`."
   ]
  },
  {
   "cell_type": "code",
   "execution_count": 8,
   "metadata": {},
   "outputs": [
    {
     "data": {
      "text/plain": [
       "['CLM_2010', 'jrdn1991']"
      ]
     },
     "execution_count": 8,
     "metadata": {},
     "output_type": "execute_result"
    }
   ],
   "source": [
    "S.decision_obj.snowLayers.options"
   ]
  },
  {
   "cell_type": "code",
   "execution_count": 9,
   "metadata": {},
   "outputs": [],
   "source": [
    "S.decision_obj.snowLayers.value = 'CLM_2010'"
   ]
  },
  {
   "cell_type": "code",
   "execution_count": 12,
   "metadata": {},
   "outputs": [],
   "source": [
    "S.decision_obj.snowLayers.value = 'jrdn1991'"
   ]
  },
  {
   "cell_type": "markdown",
   "metadata": {},
   "source": [
    "Use a `run_suffix` that uniquely identifies this run so that you can keep your runs apart, for example `CLM_2010`, and run the model. If you assign the results to its own dataset (e.g. `ds_clm_2010`) and output file (e.g. `file_clm_2010`) it will be easier to gather all the files and upload them to HydroShare (or you can do so one by one, this is all up to you). The run itself will take about a minute."
   ]
  },
  {
   "cell_type": "code",
   "execution_count": 17,
   "metadata": {},
   "outputs": [
    {
     "name": "stdout",
     "output_type": "stream",
     "text": [
      "file_suffix is 'CLM_2010'.\n",
      "file_master is '/home/jovyan/work/363296896e9d48d9b464d766fcd3073a/363296896e9d48d9b464d766fcd3073a/data/contents/reynolds/settings/snow_fileManager_template.txt'.\n",
      "start at 19:07:09\n",
      "Name of Model Output control file: /home/jovyan/work/363296896e9d48d9b464d766fcd3073a/363296896e9d48d9b464d766fcd3073a/data/contents/reynolds/settings/snow_zOutputControl.txt\n",
      "decisions file =  /home/jovyan/work/363296896e9d48d9b464d766fcd3073a/363296896e9d48d9b464d766fcd3073a/data/contents/reynolds/settings/snow_zDecisions.txt\n",
      "   1 simulStart: 1999-07-01 00:00\n",
      "   2 simulFinsh: 2003-09-30 23:00\n",
      "   3 soilCatTbl: ROSETTA\n",
      "   4 vegeParTbl: USGS\n",
      "   5 soilStress: NoahType\n",
      "   6 stomResist: BallBerry\n",
      "   7 num_method: itertive\n",
      "   8 fDerivMeth: analytic\n",
      "   9 LAI_method: monTable\n",
      "  10 f_Richards: mixdform\n",
      "  11 groundwatr: noXplict\n",
      "  12 hc_profile: constant\n",
      "  13 bcUpprTdyn: nrg_flux\n",
      "  14 bcLowrTdyn: zeroFlux\n",
      "  15 bcUpprSoiH: liq_flux\n",
      "  16 bcLowrSoiH: drainage\n",
      "  17 veg_traits: CM_QJRMS1988\n",
      "  18 canopyEmis: difTrans\n",
      "  19 snowIncept: lightSnow\n",
      "  20 windPrfile: logBelowCanopy\n",
      "  21 astability: louisinv\n",
      "  22 canopySrad: CLM_2stream\n",
      "  23 alb_method: varDecay\n",
      "  24 compaction: anderson\n",
      "  25 snowLayers: CLM_2010\n",
      "  26 thCondSnow: jrdn1991\n",
      "  27 thCondSoil: funcSoilWet\n",
      "  28 spatial_gw: localColumn\n",
      "  29 subRouting: qInstant\n",
      "startTime: iyyy, im, id, ih, imin = 1999  7  1  0  0\n",
      "finshTime: iyyy, im, id, ih, imin = 2003  9 30 23  0\n",
      "/home/jovyan/work/363296896e9d48d9b464d766fcd3073a/363296896e9d48d9b464d766fcd3073a/data/contents/reynolds/settings/snow_zLocalParamInfo.txt\n",
      "/home/jovyan/work/363296896e9d48d9b464d766fcd3073a/363296896e9d48d9b464d766fcd3073a/data/contents/reynolds/settings/snow_zBasinParamInfo.txt\n",
      "Skipping over SLTYPE = STAS\n",
      "Skipping over SLTYPE = STAS-RUC\n",
      " hruIndex\n",
      " frozenPrecipMultip\n",
      " rootingDepth\n",
      " rootDistExp\n",
      " theta_sat\n",
      " theta_res\n",
      " vGn_alpha\n",
      " vGn_n\n",
      " k_soil\n",
      " critSoilWilting\n",
      " critSoilTranspire\n",
      " winterSAI\n",
      " summerLAI\n",
      " heightCanopyTop\n",
      " heightCanopyBottom\n",
      "Created output file:/home/jovyan/work/363296896e9d48d9b464d766fcd3073a/363296896e9d48d9b464d766fcd3073a/data/contents/reynolds/output/reynolds_output_CLM_2010_timestep.nc\n",
      "\n",
      "initial date/time = 2018-10-15  19:07:09.540\n",
      "  final date/time = 2018-10-15  19:07:50.529\n",
      "\n",
      "     elapsed init =   3.8000000E-02 s\n",
      "    fraction init =   9.2707800E-04 s\n",
      "\n",
      "     elapsed read =   0.7910000     s\n",
      "    fraction read =   1.9297860E-02 s\n",
      "\n",
      "    elapsed write =    3.368000     s\n",
      "   fraction write =   8.2168387E-02 s\n",
      "\n",
      "  elapsed physics =    36.73900     s\n",
      " fraction physics =   0.8963136     s\n",
      "\n",
      "     elapsed time =    40.98900     s\n",
      "       or             0.6831500     m\n",
      "       or             1.1385833E-02 h\n",
      "       or             4.7440972E-04 d\n",
      "\n",
      "   number threads =          1\n",
      "\n",
      " FORTRAN STOP: finished simulation successfully.\n",
      "\n"
     ]
    }
   ],
   "source": [
    "ds_clm_2010, file_clm_2010 = S.execute(run_suffix='CLM_2010', run_option='local')"
   ]
  },
  {
   "cell_type": "code",
   "execution_count": 10,
   "metadata": {},
   "outputs": [
    {
     "name": "stdout",
     "output_type": "stream",
     "text": [
      "file_suffix is 'CLM_2010'.\n",
      "file_master is '/home/jovyan/work/363296896e9d48d9b464d766fcd3073a/363296896e9d48d9b464d766fcd3073a/data/contents/reynolds/settings/snow_fileManager_template.txt'.\n",
      "start at 18:04:10\n",
      "Name of Model Output control file: /home/jovyan/work/363296896e9d48d9b464d766fcd3073a/363296896e9d48d9b464d766fcd3073a/data/contents/reynolds/settings/snow_zOutputControl.txt\n",
      "decisions file =  /home/jovyan/work/363296896e9d48d9b464d766fcd3073a/363296896e9d48d9b464d766fcd3073a/data/contents/reynolds/settings/snow_zDecisions.txt\n",
      "   1 simulStart: 1999-07-01 00:00\n",
      "   2 simulFinsh: 2003-09-30 23:00\n",
      "   3 soilCatTbl: ROSETTA\n",
      "   4 vegeParTbl: USGS\n",
      "   5 soilStress: NoahType\n",
      "   6 stomResist: BallBerry\n",
      "   7 num_method: itertive\n",
      "   8 fDerivMeth: analytic\n",
      "   9 LAI_method: monTable\n",
      "  10 f_Richards: mixdform\n",
      "  11 groundwatr: noXplict\n",
      "  12 hc_profile: constant\n",
      "  13 bcUpprTdyn: nrg_flux\n",
      "  14 bcLowrTdyn: zeroFlux\n",
      "  15 bcUpprSoiH: liq_flux\n",
      "  16 bcLowrSoiH: drainage\n",
      "  17 veg_traits: CM_QJRMS1988\n",
      "  18 canopyEmis: difTrans\n",
      "  19 snowIncept: lightSnow\n",
      "  20 windPrfile: logBelowCanopy\n",
      "  21 astability: louisinv\n",
      "  22 canopySrad: CLM_2stream\n",
      "  23 alb_method: varDecay\n",
      "  24 compaction: anderson\n",
      "  25 snowLayers: CLM_2010\n",
      "  26 thCondSnow: jrdn1991\n",
      "  27 thCondSoil: funcSoilWet\n",
      "  28 spatial_gw: localColumn\n",
      "  29 subRouting: qInstant\n",
      "startTime: iyyy, im, id, ih, imin = 1999  7  1  0  0\n",
      "finshTime: iyyy, im, id, ih, imin = 2003  9 30 23  0\n",
      "/home/jovyan/work/363296896e9d48d9b464d766fcd3073a/363296896e9d48d9b464d766fcd3073a/data/contents/reynolds/settings/snow_zLocalParamInfo.txt\n",
      "/home/jovyan/work/363296896e9d48d9b464d766fcd3073a/363296896e9d48d9b464d766fcd3073a/data/contents/reynolds/settings/snow_zBasinParamInfo.txt\n",
      "Skipping over SLTYPE = STAS\n",
      "Skipping over SLTYPE = STAS-RUC\n",
      " hruIndex\n",
      " frozenPrecipMultip\n",
      " rootingDepth\n",
      " rootDistExp\n",
      " theta_sat\n",
      " theta_res\n",
      " vGn_alpha\n",
      " vGn_n\n",
      " k_soil\n",
      " critSoilWilting\n",
      " critSoilTranspire\n",
      " winterSAI\n",
      " summerLAI\n",
      " heightCanopyTop\n",
      " heightCanopyBottom\n",
      "Created output file:/home/jovyan/work/363296896e9d48d9b464d766fcd3073a/363296896e9d48d9b464d766fcd3073a/data/contents/reynolds/output/reynolds_output_CLM_2010_timestep.nc\n",
      "\n",
      "initial date/time = 2018-10-15  18:04:10.077\n",
      "  final date/time = 2018-10-15  18:04:52.359\n",
      "\n",
      "     elapsed init =   6.9000000E-02 s\n",
      "    fraction init =   1.6319001E-03 s\n",
      "\n",
      "     elapsed read =   0.7830000     s\n",
      "    fraction read =   1.8518519E-02 s\n",
      "\n",
      "    elapsed write =    3.577000     s\n",
      "   fraction write =   8.4598647E-02 s\n",
      "\n",
      "  elapsed physics =    37.80500     s\n",
      " fraction physics =   0.8941157     s\n",
      "\n",
      "     elapsed time =    42.28200     s\n",
      "       or             0.7047000     m\n",
      "       or             1.1745000E-02 h\n",
      "       or             4.8937500E-04 d\n",
      "\n",
      "   number threads =          1\n",
      "\n",
      " FORTRAN STOP: finished simulation successfully.\n",
      "\n"
     ]
    }
   ],
   "source": [
    "ds_clm_2010, file_clm_2010 = S.execute(run_suffix='CLM_2010', run_option='local')"
   ]
  },
  {
   "cell_type": "code",
   "execution_count": 13,
   "metadata": {},
   "outputs": [
    {
     "name": "stdout",
     "output_type": "stream",
     "text": [
      "file_suffix is 'jrdn1991'.\n",
      "file_master is '/home/jovyan/work/363296896e9d48d9b464d766fcd3073a/363296896e9d48d9b464d766fcd3073a/data/contents/reynolds/settings/snow_fileManager_template.txt'.\n",
      "start at 18:19:40\n",
      "Name of Model Output control file: /home/jovyan/work/363296896e9d48d9b464d766fcd3073a/363296896e9d48d9b464d766fcd3073a/data/contents/reynolds/settings/snow_zOutputControl.txt\n",
      "decisions file =  /home/jovyan/work/363296896e9d48d9b464d766fcd3073a/363296896e9d48d9b464d766fcd3073a/data/contents/reynolds/settings/snow_zDecisions.txt\n",
      "   1 simulStart: 1999-07-01 00:00\n",
      "   2 simulFinsh: 2003-09-30 23:00\n",
      "   3 soilCatTbl: ROSETTA\n",
      "   4 vegeParTbl: USGS\n",
      "   5 soilStress: NoahType\n",
      "   6 stomResist: BallBerry\n",
      "   7 num_method: itertive\n",
      "   8 fDerivMeth: analytic\n",
      "   9 LAI_method: monTable\n",
      "  10 f_Richards: mixdform\n",
      "  11 groundwatr: noXplict\n",
      "  12 hc_profile: constant\n",
      "  13 bcUpprTdyn: nrg_flux\n",
      "  14 bcLowrTdyn: zeroFlux\n",
      "  15 bcUpprSoiH: liq_flux\n",
      "  16 bcLowrSoiH: drainage\n",
      "  17 veg_traits: CM_QJRMS1988\n",
      "  18 canopyEmis: difTrans\n",
      "  19 snowIncept: lightSnow\n",
      "  20 windPrfile: logBelowCanopy\n",
      "  21 astability: louisinv\n",
      "  22 canopySrad: CLM_2stream\n",
      "  23 alb_method: varDecay\n",
      "  24 compaction: anderson\n",
      "  25 snowLayers: jrdn1991\n",
      "  26 thCondSnow: jrdn1991\n",
      "  27 thCondSoil: funcSoilWet\n",
      "  28 spatial_gw: localColumn\n",
      "  29 subRouting: qInstant\n",
      "startTime: iyyy, im, id, ih, imin = 1999  7  1  0  0\n",
      "finshTime: iyyy, im, id, ih, imin = 2003  9 30 23  0\n",
      "/home/jovyan/work/363296896e9d48d9b464d766fcd3073a/363296896e9d48d9b464d766fcd3073a/data/contents/reynolds/settings/snow_zLocalParamInfo.txt\n",
      "/home/jovyan/work/363296896e9d48d9b464d766fcd3073a/363296896e9d48d9b464d766fcd3073a/data/contents/reynolds/settings/snow_zBasinParamInfo.txt\n",
      "Skipping over SLTYPE = STAS\n",
      "Skipping over SLTYPE = STAS-RUC\n",
      " hruIndex\n",
      " frozenPrecipMultip\n",
      " rootingDepth\n",
      " rootDistExp\n",
      " theta_sat\n",
      " theta_res\n",
      " vGn_alpha\n",
      " vGn_n\n",
      " k_soil\n",
      " critSoilWilting\n",
      " critSoilTranspire\n",
      " winterSAI\n",
      " summerLAI\n",
      " heightCanopyTop\n",
      " heightCanopyBottom\n",
      "Created output file:/home/jovyan/work/363296896e9d48d9b464d766fcd3073a/363296896e9d48d9b464d766fcd3073a/data/contents/reynolds/output/reynolds_output_jrdn1991_timestep.nc\n",
      "\n",
      "initial date/time = 2018-10-15  18:19:40.008\n",
      "  final date/time = 2018-10-15  18:20:27.598\n",
      "\n",
      "     elapsed init =   3.9000000E-02 s\n",
      "    fraction init =   8.1949989E-04 s\n",
      "\n",
      "     elapsed read =   0.8720000     s\n",
      "    fraction read =   1.8323177E-02 s\n",
      "\n",
      "    elapsed write =    4.259000     s\n",
      "   fraction write =   8.9493591E-02 s\n",
      "\n",
      "  elapsed physics =    42.36300     s\n",
      " fraction physics =   0.8901660     s\n",
      "\n",
      "     elapsed time =    47.59000     s\n",
      "       or             0.7931667     m\n",
      "       or             1.3219444E-02 h\n",
      "       or             5.5081019E-04 d\n",
      "\n",
      "   number threads =          1\n",
      "\n",
      " FORTRAN STOP: finished simulation successfully.\n",
      "\n"
     ]
    }
   ],
   "source": [
    "ds_jrdn1991, file_jrdn1991 = S.execute(run_suffix='jrdn1991', run_option='local')"
   ]
  },
  {
   "cell_type": "markdown",
   "metadata": {},
   "source": [
    "You can quickly check how the number of snow layers changes by plotting"
   ]
  },
  {
   "cell_type": "code",
   "execution_count": 11,
   "metadata": {},
   "outputs": [
    {
     "data": {
      "text/plain": [
       "[<matplotlib.lines.Line2D at 0x7fc8277baf28>]"
      ]
     },
     "execution_count": 11,
     "metadata": {},
     "output_type": "execute_result"
    },
    {
     "data": {
      "image/png": "[encoded data removed]",
      "text/plain": [
       "<Figure size 432x288 with 1 Axes>"
      ]
     },
     "metadata": {},
     "output_type": "display_data"
    }
   ],
   "source": [
    "ds_clm_2010.nSnow.isel(hru=0).plot()"
   ]
  },
  {
   "cell_type": "code",
   "execution_count": 18,
   "metadata": {},
   "outputs": [
    {
     "data": {
      "text/plain": [
       "[<matplotlib.lines.Line2D at 0x7fc8274bc080>]"
      ]
     },
     "execution_count": 18,
     "metadata": {},
     "output_type": "execute_result"
    },
    {
     "data": {
      "image/png": "[encoded data removed]",
      "text/plain": [
       "<Figure size 432x288 with 1 Axes>"
      ]
     },
     "metadata": {},
     "output_type": "display_data"
    }
   ],
   "source": [
    "ds_clm_2010.nSnow.isel(hru=0).plot()"
   ]
  },
  {
   "cell_type": "code",
   "execution_count": 14,
   "metadata": {},
   "outputs": [
    {
     "data": {
      "text/plain": [
       "[<matplotlib.lines.Line2D at 0x7fc8253abba8>]"
      ]
     },
     "execution_count": 14,
     "metadata": {},
     "output_type": "execute_result"
    },
    {
     "data": {
      "image/png": "[encoded data removed]",
      "text/plain": [
       "<Figure size 432x288 with 1 Axes>"
      ]
     },
     "metadata": {},
     "output_type": "display_data"
    }
   ],
   "source": [
    "ds_jrdn1991.nSnow.isel(hru=0).plot()"
   ]
  },
  {
   "cell_type": "markdown",
   "metadata": {},
   "source": [
    "As you can see, the number of layers never exceeds five."
   ]
  },
  {
   "cell_type": "markdown",
   "metadata": {},
   "source": [
    "#### SUMMA with jrdn1991"
   ]
  },
  {
   "cell_type": "markdown",
   "metadata": {},
   "source": [
    "Repeat the exercise with the `jrdn1991` option for `snowLayers`. Examine the differences in the snow layers themselves, but also in other characteristics of snow pack evolution. In SUMMA, all other options will be the same between these two simulations unless you change things explicitly."
   ]
  },
  {
   "cell_type": "markdown",
   "metadata": {},
   "source": [
    "#### SUMMA with CLM_2010 configured as a  two layer model"
   ]
  },
  {
   "cell_type": "markdown",
   "metadata": {},
   "source": [
    "Now change the `snowLayers` option back to `CLM_2010` and configure the model to act as a two layer snow model rather than a five layer snow model. Two layer models are quite common. The surface layer is typically quite thin in these setups to respond quickly to changing atmospheric conditions, while the second layer acts as a snow reservoir with unlimited capacity.\n",
    "\n",
    "To configure the snow model as a two layer model, we need to change some model parameters, something we have not done so far, so we need to introduce another function in pySUMMA. Here, we'll change some settings in the SUMMA input file that contains parameter information (the name of that file is stored in your simulation object as `S.local_par.filename`).\n"
   ]
  },
  {
   "cell_type": "code",
   "execution_count": 15,
   "metadata": {},
   "outputs": [
    {
     "data": {
      "text/plain": [
       "'snow_zLocalParamInfo.txt'"
      ]
     },
     "execution_count": 15,
     "metadata": {},
     "output_type": "execute_result"
    }
   ],
   "source": [
    "S.local_par.filename"
   ]
  },
  {
   "cell_type": "markdown",
   "metadata": {},
   "source": [
    "We are going to change the file so it has the following settings:\n",
    "```\n",
    "zminLayer3                |     100.0000 |       0.0500 |       0.0500\n",
    "zminLayer4                |     100.0000 |       0.1000 |       0.1000\n",
    "zminLayer5                |     100.0000 |       0.2500 |       0.2500\n",
    "zmaxLayer2_lower          |    1000.0000 |       0.2000 |       0.2000\n",
    "zmaxLayer3_lower          |    1000.0000 |       0.5000 |       0.5000\n",
    "zmaxLayer4_lower          |    1000.0000 |       1.0000 |       1.0000\n",
    "zmaxLayer2_upper          |    1000.0000 |       0.1500 |       0.1500\n",
    "zmaxLayer3_upper          |    1000.0000 |       0.3000 |       0.3000\n",
    "zmaxLayer4_upper          |    1000.0000 |       0.7500 |       0.7500\n",
    "```\n",
    "For now don't worry about the last two columns (they are not used). The value in the second column determines when a new snow layer is created or when two layers are merged. By creating a second layer with a very large capacity, layers 3, 4, and 5 will never be created and the model acts like a two layer snow model."
   ]
  },
  {
   "cell_type": "markdown",
   "metadata": {},
   "source": [
    "While you can make these changes directly in the text file (`S.local_par.filename`), we will use pySUMMA to do so. This works somewhat differently than for the decisions (pySUMMA is a work in progress), but you can do the following:"
   ]
  },
  {
   "cell_type": "code",
   "execution_count": 16,
   "metadata": {},
   "outputs": [],
   "source": [
    "S.decision_obj.snowLayers.value = 'CLM_2010'\n",
    "\n",
    "local_params_file = S.file_dir + '/' + S.local_par.filename\n",
    "local_params = LocalParamInfo(local_params_file)\n",
    "\n",
    "local_params.replace('zminLayer3', 100.0000, 0.0500, 0.0500)\n",
    "local_params.replace('zminLayer4', 100.0000, 0.1000, 0.1000)\n",
    "local_params.replace('zminLayer5', 100.0000, 0.2500, 0.2500)\n",
    "local_params.replace('zmaxLayer2_lower', 1000.0000, 0.2, 0.2000)\n",
    "local_params.replace('zmaxLayer3_lower', 1000.0000, 0.5000, 0.5000)\n",
    "local_params.replace('zmaxLayer4_lower', 1000.0000, 1.0000, 1.0000)\n",
    "local_params.replace('zmaxLayer2_upper', 1000.0000, 0.1500, 0.1500)\n",
    "local_params.replace('zmaxLayer3_upper', 1000.0000, 0.3000, 0.3000)\n",
    "local_params.replace('zmaxLayer4_upper', 1000.0000, 0.7500, 0.7500)"
   ]
  },
  {
   "cell_type": "markdown",
   "metadata": {},
   "source": [
    "Now go ahead and run the model. After you run the model, it is a good idea to restore the original parameters, which you can do by executing `local_params.restore()`. Note that this will only restore the immediately previous set of parameters. If things go really wrong, you can rerun the setup notebook (`work/homework_1/homework_1_C_setup.ipynb`) and start with a clean slate.\n",
    "\n",
    "Before you go on, verify that your model run only uses two snow layers and restore the original parameters by executing `local_params.restore()`."
   ]
  },
  {
   "cell_type": "code",
   "execution_count": 19,
   "metadata": {},
   "outputs": [],
   "source": [
    "local_params.restore()"
   ]
  },
  {
   "cell_type": "markdown",
   "metadata": {},
   "source": [
    "#### SUMMA with CLM_2010 configured as a two layer model with a thick top layer"
   ]
  },
  {
   "cell_type": "markdown",
   "metadata": {},
   "source": [
    "One more run with `CLM_2010`, two layers, and a thick top layer. To do this, change the local parameters to\n",
    "```\n",
    "zminLayer1                |       0.0500 |       0.0500 |       0.0500\n",
    "zminLayer2                |       0.0200 |       0.0500 |       0.0500\n",
    "zminLayer3                |     100.0000 |       0.0500 |       0.0500\n",
    "zminLayer4                |     100.0000 |       0.1000 |       0.1000\n",
    "zminLayer5                |     100.0000 |       0.2500 |       0.2500\n",
    "zmaxLayer1_lower          |       0.2000 |       0.0500 |       0.0500\n",
    "zmaxLayer2_lower          |    1000.0000 |       0.2000 |       0.2000\n",
    "zmaxLayer3_lower          |    1000.0000 |       0.5000 |       0.5000\n",
    "zmaxLayer4_lower          |    1000.0000 |       1.0000 |       1.0000\n",
    "zmaxLayer1_upper          |       0.1500 |       0.0300 |       0.0300\n",
    "zmaxLayer2_upper          |    1000.0000 |       0.1500 |       0.1500\n",
    "zmaxLayer3_upper          |    1000.0000 |       0.3000 |       0.3000\n",
    "zmaxLayer4_upper          |    1000.0000 |       0.7500 |       0.7500\n",
    "\n",
    "```"
   ]
  },
  {
   "cell_type": "markdown",
   "metadata": {},
   "source": [
    "and run again. After you are done, restore the local parameters to the original values, because we will use the same setup in the next notebook."
   ]
  },
  {
   "cell_type": "code",
   "execution_count": 20,
   "metadata": {},
   "outputs": [],
   "source": [
    "S.decision_obj.snowLayers.value = 'CLM_2010'\n",
    "\n",
    "local_params_file = S.file_dir + '/' + S.local_par.filename\n",
    "local_params = LocalParamInfo(local_params_file)\n",
    "\n",
    "local_params.replace('zminLayer1', 0.0500, 0.0500, 0.0500)\n",
    "local_params.replace('zminLayer2', 0.0200, 0.0500, 0.0500)\n",
    "local_params.replace('zminLayer3', 100.0000, 0.0500, 0.0500)\n",
    "local_params.replace('zminLayer4', 100.0000, 0.1000, 0.1000)\n",
    "local_params.replace('zminLayer5', 100.0000, 0.2500, 0.2500)\n",
    "local_params.replace('zmaxLayer1_lower', 0.2000, 0.0500, 0.0500)\n",
    "local_params.replace('zmaxLayer2_lower', 1000.0000, 0.2, 0.2000)\n",
    "local_params.replace('zmaxLayer3_lower', 1000.0000, 0.5000, 0.5000)\n",
    "local_params.replace('zmaxLayer4_lower', 1000.0000, 1.0000, 1.0000)\n",
    "local_params.replace('zmaxLayer1_upper', 0.1500, 0.0300, 0.0300)\n",
    "local_params.replace('zmaxLayer2_upper', 1000.0000, 0.1500, 0.1500)\n",
    "local_params.replace('zmaxLayer3_upper', 1000.0000, 0.3000, 0.3000)\n",
    "local_params.replace('zmaxLayer4_upper', 1000.0000, 0.7500, 0.7500)"
   ]
  },
  {
   "cell_type": "code",
   "execution_count": 21,
   "metadata": {},
   "outputs": [
    {
     "name": "stdout",
     "output_type": "stream",
     "text": [
      "file_suffix is 'CLM_2010'.\n",
      "file_master is '/home/jovyan/work/363296896e9d48d9b464d766fcd3073a/363296896e9d48d9b464d766fcd3073a/data/contents/reynolds/settings/snow_fileManager_template.txt'.\n",
      "start at 19:16:22\n",
      "Name of Model Output control file: /home/jovyan/work/363296896e9d48d9b464d766fcd3073a/363296896e9d48d9b464d766fcd3073a/data/contents/reynolds/settings/snow_zOutputControl.txt\n",
      "decisions file =  /home/jovyan/work/363296896e9d48d9b464d766fcd3073a/363296896e9d48d9b464d766fcd3073a/data/contents/reynolds/settings/snow_zDecisions.txt\n",
      "   1 simulStart: 1999-07-01 00:00\n",
      "   2 simulFinsh: 2003-09-30 23:00\n",
      "   3 soilCatTbl: ROSETTA\n",
      "   4 vegeParTbl: USGS\n",
      "   5 soilStress: NoahType\n",
      "   6 stomResist: BallBerry\n",
      "   7 num_method: itertive\n",
      "   8 fDerivMeth: analytic\n",
      "   9 LAI_method: monTable\n",
      "  10 f_Richards: mixdform\n",
      "  11 groundwatr: noXplict\n",
      "  12 hc_profile: constant\n",
      "  13 bcUpprTdyn: nrg_flux\n",
      "  14 bcLowrTdyn: zeroFlux\n",
      "  15 bcUpprSoiH: liq_flux\n",
      "  16 bcLowrSoiH: drainage\n",
      "  17 veg_traits: CM_QJRMS1988\n",
      "  18 canopyEmis: difTrans\n",
      "  19 snowIncept: lightSnow\n",
      "  20 windPrfile: logBelowCanopy\n",
      "  21 astability: louisinv\n",
      "  22 canopySrad: CLM_2stream\n",
      "  23 alb_method: varDecay\n",
      "  24 compaction: anderson\n",
      "  25 snowLayers: CLM_2010\n",
      "  26 thCondSnow: jrdn1991\n",
      "  27 thCondSoil: funcSoilWet\n",
      "  28 spatial_gw: localColumn\n",
      "  29 subRouting: qInstant\n",
      "startTime: iyyy, im, id, ih, imin = 1999  7  1  0  0\n",
      "finshTime: iyyy, im, id, ih, imin = 2003  9 30 23  0\n",
      "/home/jovyan/work/363296896e9d48d9b464d766fcd3073a/363296896e9d48d9b464d766fcd3073a/data/contents/reynolds/settings/snow_zLocalParamInfo.txt\n",
      "/home/jovyan/work/363296896e9d48d9b464d766fcd3073a/363296896e9d48d9b464d766fcd3073a/data/contents/reynolds/settings/snow_zBasinParamInfo.txt\n",
      "Skipping over SLTYPE = STAS\n",
      "Skipping over SLTYPE = STAS-RUC\n",
      " hruIndex\n",
      " frozenPrecipMultip\n",
      " rootingDepth\n",
      " rootDistExp\n",
      " theta_sat\n",
      " theta_res\n",
      " vGn_alpha\n",
      " vGn_n\n",
      " k_soil\n",
      " critSoilWilting\n",
      " critSoilTranspire\n",
      " winterSAI\n",
      " summerLAI\n",
      " heightCanopyTop\n",
      " heightCanopyBottom\n",
      "Created output file:/home/jovyan/work/363296896e9d48d9b464d766fcd3073a/363296896e9d48d9b464d766fcd3073a/data/contents/reynolds/output/reynolds_output_CLM_2010_timestep.nc\n",
      "\n",
      "initial date/time = 2018-10-15  19:16:22.607\n",
      "  final date/time = 2018-10-15  19:17:00.685\n",
      "\n",
      "     elapsed init =   4.2000000E-02 s\n",
      "    fraction init =   1.1029991E-03 s\n",
      "\n",
      "     elapsed read =    1.027000     s\n",
      "    fraction read =   2.6970954E-02 s\n",
      "\n",
      "    elapsed write =    3.407000     s\n",
      "   fraction write =   8.9474237E-02 s\n",
      "\n",
      "  elapsed physics =    33.55500     s\n",
      " fraction physics =   0.8812175     s\n",
      "\n",
      "     elapsed time =    38.07800     s\n",
      "       or             0.6346333     m\n",
      "       or             1.0577222E-02 h\n",
      "       or             4.4071759E-04 d\n",
      "\n",
      "   number threads =          1\n",
      "\n",
      " FORTRAN STOP: finished simulation successfully.\n",
      "\n"
     ]
    }
   ],
   "source": [
    "ds_clm_2010, file_clm_2010 = S.execute(run_suffix='CLM_2010', run_option='local')"
   ]
  },
  {
   "cell_type": "code",
   "execution_count": 22,
   "metadata": {},
   "outputs": [
    {
     "data": {
      "text/plain": [
       "[<matplotlib.lines.Line2D at 0x7fc825397630>]"
      ]
     },
     "execution_count": 22,
     "metadata": {},
     "output_type": "execute_result"
    },
    {
     "data": {
      "image/png": "[encoded data removed]",
      "text/plain": [
       "<Figure size 432x288 with 1 Axes>"
      ]
     },
     "metadata": {},
     "output_type": "display_data"
    }
   ],
   "source": [
    "ds_clm_2010.nSnow.isel(hru=0).plot()"
   ]
  },
  {
   "cell_type": "code",
   "execution_count": null,
   "metadata": {},
   "outputs": [],
   "source": [
    "local_params.restore()"
   ]
  },
  {
   "cell_type": "markdown",
   "metadata": {},
   "source": [
    "## On to the next step"
   ]
  },
  {
   "cell_type": "markdown",
   "metadata": {},
   "source": [
    "That's it for the first part of the first homework as far as the model simulations go. Prof. Lundquist will talk more about the analysis that you need to do on these simulations. You can do the analysis here in this notebook if python is your analysis software of choice or you can upload your output to HydroShare (in NetCDF or csv format) to do additional analysis."
   ]
  },
  {
   "cell_type": "markdown",
   "metadata": {},
   "source": [
    "Save this notebook and close the tab. You can also right-click on the file in the left panel if it has a green dot next to it and select \"_Shutdown kernel_\" from the popup menu to stop the python session that is executing the commands in this notebook. Then open the next notebook: \n",
    "`work/homework_1/homework_1_E_exercise_2.ipynb`."
   ]
  },
  {
   "cell_type": "markdown",
   "metadata": {},
   "source": [
    "## References\n",
    "\n",
    "* Jordan, R., 1991: A one-dimensional temperature model for a snow cover. Technical documentation for SNTHERM.89. U.S. Army Corps of Engineers Cold Regions Research and Engineering Laboratory, 49 pp."
   ]
  },
  {
   "cell_type": "code",
   "execution_count": null,
   "metadata": {},
   "outputs": [],
   "source": []
  }
 ],
 "metadata": {
  "kernelspec": {
   "display_name": "Python [default]",
   "language": "python",
   "name": "python3"
  },
  "language_info": {
   "codemirror_mode": {
    "name": "ipython",
    "version": 3
   },
   "file_extension": ".py",
   "mimetype": "text/x-python",
   "name": "python",
   "nbconvert_exporter": "python",
   "pygments_lexer": "ipython3",
   "version": "3.6.3"
  }
 },
 "nbformat": 4,
 "nbformat_minor": 2
}
